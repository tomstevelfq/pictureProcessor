{
 "cells": [
  {
   "cell_type": "code",
   "execution_count": null,
   "id": "21c4dccc",
   "metadata": {},
   "outputs": [],
   "source": [
    "from rembg.bg import remove\n",
    "import numpy as np\n",
    "import io\n",
    "from PIL import Image\n",
    "import os\n",
    "imgs=dict()\n",
    "def genimg(img1,img2):\n",
    "    img=np.array(Image.open(img1))\n",
    "    imgg_=img[:,:,3]>150\n",
    "    img2=np.array(Image.open(img2))\n",
    "    img2[:,:,3]=imgg_*img2[:,:,3]\n",
    "\n",
    "    imgg=Image.fromarray(img2)\n",
    "    imgg.show()\n",
    "    sp=img1.split('.')\n",
    "    imgg.save('./2/'+sp[0]+'dfsa'+'.png')\n",
    "\n",
    "def koutu(input_path,output_path):\n",
    "    # Uncomment the following line if working with trucated image formats (ex. JPEG / JPG)\n",
    "    # ImageFile.LOAD_TRUNCATED_IMAGES = True\n",
    "    f = np.fromfile(input_path)\n",
    "    result = remove(f)\n",
    "    img = Image.open(io.BytesIO(result)).convert(\"RGBA\")\n",
    "    img.save(output_path)\n",
    "    f = np.fromfile(input_path)\n",
    "    result = remove(f,alpha_matting=True)\n",
    "    img = Image.open(io.BytesIO(result)).convert(\"RGBA\")\n",
    "    aname=output_path.split('.')[0]+'.png'\n",
    "    img.save(aname)\n",
    "    img[aname]=outputpath\n",
    "    \n",
    "def koutu():\n",
    "    filenames=os.listdir('./1')\n",
    "    for it in filenames:\n",
    "        koutu('./3/'+it,'./3/'+it.spit('.')[0]+'fsfd.png')\n",
    "    for it in imgs:\n",
    "        genimg(it,imgs[it])\n",
    "    \n",
    "if __name__ =='__main__':\n",
    "    koutu()"
   ]
  }
 ],
 "metadata": {
  "kernelspec": {
   "display_name": "Python [conda env:r] *",
   "language": "python",
   "name": "conda-env-r-py"
  },
  "language_info": {
   "codemirror_mode": {
    "name": "ipython",
    "version": 3
   },
   "file_extension": ".py",
   "mimetype": "text/x-python",
   "name": "python",
   "nbconvert_exporter": "python",
   "pygments_lexer": "ipython3",
   "version": "3.8.12"
  }
 },
 "nbformat": 4,
 "nbformat_minor": 5
}
