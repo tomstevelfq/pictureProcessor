{
 "cells": [
  {
   "cell_type": "code",
   "execution_count": 1,
   "id": "69952499",
   "metadata": {},
   "outputs": [],
   "source": [
    "import os"
   ]
  },
  {
   "cell_type": "code",
   "execution_count": 2,
   "id": "3a3a476f",
   "metadata": {},
   "outputs": [
    {
     "data": {
      "text/plain": [
       "'C:\\\\Users\\\\tomst\\\\Desktop\\\\machine learning\\\\test'"
      ]
     },
     "execution_count": 2,
     "metadata": {},
     "output_type": "execute_result"
    }
   ],
   "source": [
    "os.getcwd()"
   ]
  },
  {
   "cell_type": "code",
   "execution_count": 3,
   "id": "3e483eba",
   "metadata": {},
   "outputs": [],
   "source": [
    "from rembg.bg import remove"
   ]
  },
  {
   "cell_type": "code",
   "execution_count": 4,
   "id": "afbd8e02",
   "metadata": {},
   "outputs": [
    {
     "name": "stdout",
     "output_type": "stream",
     "text": [
      "Help on function remove in module rembg.bg:\n",
      "\n",
      "remove(data, model_name='u2net', alpha_matting=False, alpha_matting_foreground_threshold=240, alpha_matting_background_threshold=10, alpha_matting_erode_structure_size=10, alpha_matting_base_size=1000)\n",
      "\n"
     ]
    }
   ],
   "source": [
    "help(remove)"
   ]
  },
  {
   "cell_type": "code",
   "execution_count": 5,
   "id": "47712a43",
   "metadata": {},
   "outputs": [],
   "source": [
    "from rembg.bg import remove\n",
    "import io\n",
    "import os\n",
    "import numpy as np\n",
    "from PIL import Image\n",
    "from PIL import ImageFile\n",
    "ImageFile.LOAD_TRUNCATED_IMAGES=True\n",
    "f=np.fromfile('test.jpg')\n",
    "img=remove(f,alpha_matting=True,model_name='u2net_human_seg',alpha_matting_foreground_threshold=40, alpha_matting_background_threshold=10, alpha_matting_erode_structure_size=10, alpha_matting_base_size=1000)\n",
    "img_ = Image.open(io.BytesIO(img)).convert(\"RGBA\")\n",
    "imgg_=np.array(img_)\n",
    "img_alpha=imgg_[:,:,3]>150\n",
    "testa=np.array(Image.open('test.jpg').convert('RGBA'))\n",
    "testa[:,:,3]=testa[:,:,3]*img_alpha\n",
    "testa[:,:,2]=testa[:,:,2]*img_alpha\n",
    "testa[:,:,1]=testa[:,:,1]*img_alpha\n",
    "testa[:,:,0]=testa[:,:,0]*img_alpha\n",
    "final_img=Image.fromarray(testa)\n",
    "final_img.convert('RGB').save('this.jpg')\n",
    "final_img.show()"
   ]
  },
  {
   "cell_type": "code",
   "execution_count": null,
   "id": "73ae280c",
   "metadata": {},
   "outputs": [],
   "source": []
  }
 ],
 "metadata": {
  "kernelspec": {
   "display_name": "Python [conda env:r] *",
   "language": "python",
   "name": "conda-env-r-py"
  },
  "language_info": {
   "codemirror_mode": {
    "name": "ipython",
    "version": 3
   },
   "file_extension": ".py",
   "mimetype": "text/x-python",
   "name": "python",
   "nbconvert_exporter": "python",
   "pygments_lexer": "ipython3",
   "version": "3.8.12"
  }
 },
 "nbformat": 4,
 "nbformat_minor": 5
}
