{
 "cells": [
  {
   "cell_type": "code",
   "execution_count": null,
   "id": "9eb765b9",
   "metadata": {},
   "outputs": [],
   "source": [
    "from rembg.bg import remove\n",
    "import numpy as np\n",
    "import io\n",
    "from PIL import Image\n",
    "import os\n",
    "imgs=dict()\n",
    "def genimg(img1,img2):\n",
    "    img=np.array(Image.open(img1))\n",
    "    imgg_=img[:,:,3]>150\n",
    "    img2=np.array(Image.open(img2))\n",
    "    img2[:,:,3]=imgg_*img2[:,:,3]\n",
    "\n",
    "    imgg=Image.fromarray(img2)\n",
    "    imgg.show()\n",
    "    sp=img1.split('.')\n",
    "    imgg.save('./2/'+sp[0]+'dfsa'+'.png')\n",
    "\n",
    "def koutu(input_path,output_path):\n",
    "    # Uncomment the following line if working with trucated image formats (ex. JPEG / JPG)\n",
    "    # ImageFile.LOAD_TRUNCATED_IMAGES = True\n",
    "    f = np.fromfile(input_path)\n",
    "    result = remove(f)\n",
    "    img = Image.open(io.BytesIO(result)).convert(\"RGBA\")\n",
    "    img.save(output_path)\n",
    "    f = np.fromfile(input_path)\n",
    "    result = remove(f,alpha_matting=True)\n",
    "    img = Image.open(io.BytesIO(result)).convert(\"RGBA\")\n",
    "    aname=output_path.split('.')[0]+'.png'\n",
    "    img.save(aname)\n",
    "    img[aname]=outputpath\n",
    "    \n",
    "def koutu():\n",
    "    filenames=os.listdir('./1')\n",
    "    for it in filenames:\n",
    "        koutu('./3/'+it,'./3/'+it.spit('.')[0]+'fsfd.png')\n",
    "    for it in imgs:\n",
    "        genimg(it,imgs[it])\n",
    "    \n",
    "if __name__ =='__main__':\n",
    "    koutu()"
   ]
  },
  {
   "cell_type": "code",
   "execution_count": 1,
   "id": "3e0115c1",
   "metadata": {},
   "outputs": [
    {
     "ename": "NameError",
     "evalue": "name 'os' is not defined",
     "output_type": "error",
     "traceback": [
      "\u001b[1;31m---------------------------------------------------------------------------\u001b[0m",
      "\u001b[1;31mNameError\u001b[0m                                 Traceback (most recent call last)",
      "\u001b[1;32m~\\AppData\\Local\\Temp/ipykernel_19332/1016741090.py\u001b[0m in \u001b[0;36m<module>\u001b[1;34m\u001b[0m\n\u001b[1;32m----> 1\u001b[1;33m \u001b[0mos\u001b[0m\u001b[1;33m.\u001b[0m\u001b[0mlistdir\u001b[0m\u001b[1;33m(\u001b[0m\u001b[1;34m'.'\u001b[0m\u001b[1;33m)\u001b[0m\u001b[1;33m\u001b[0m\u001b[1;33m\u001b[0m\u001b[0m\n\u001b[0m",
      "\u001b[1;31mNameError\u001b[0m: name 'os' is not defined"
     ]
    }
   ],
   "source": [
    "os.listdir('.')"
   ]
  },
  {
   "cell_type": "code",
   "execution_count": 2,
   "id": "e46545d0",
   "metadata": {},
   "outputs": [],
   "source": [
    "import os"
   ]
  },
  {
   "cell_type": "code",
   "execution_count": 3,
   "id": "fc9ac700",
   "metadata": {},
   "outputs": [
    {
     "data": {
      "text/plain": [
       "['.idea',\n",
       " '.ipynb_checkpoints',\n",
       " '1',\n",
       " '2',\n",
       " '3',\n",
       " 'koutu.bat',\n",
       " 'test.py',\n",
       " 'Untitled.ipynb',\n",
       " 'Untitled1.ipynb']"
      ]
     },
     "execution_count": 3,
     "metadata": {},
     "output_type": "execute_result"
    }
   ],
   "source": [
    "os.listdir('.')"
   ]
  },
  {
   "cell_type": "code",
   "execution_count": 4,
   "id": "b018b88c",
   "metadata": {},
   "outputs": [],
   "source": [
    "import shutil"
   ]
  },
  {
   "cell_type": "code",
   "execution_count": 5,
   "id": "4f55d422",
   "metadata": {},
   "outputs": [
    {
     "data": {
      "text/plain": [
       "'./koutu/123.png'"
      ]
     },
     "execution_count": 5,
     "metadata": {},
     "output_type": "execute_result"
    }
   ],
   "source": [
    "shutil.move('./2/1641454609.1526935.png','./koutu/123.png')"
   ]
  },
  {
   "cell_type": "code",
   "execution_count": 6,
   "id": "f9384fc2",
   "metadata": {},
   "outputs": [
    {
     "data": {
      "text/plain": [
       "'1641454609.1526935.png'"
      ]
     },
     "execution_count": 6,
     "metadata": {},
     "output_type": "execute_result"
    }
   ],
   "source": [
    "'./2/1641454609.1526935.png'.split('/')[-1]"
   ]
  },
  {
   "cell_type": "code",
   "execution_count": 7,
   "id": "d66e989d",
   "metadata": {},
   "outputs": [
    {
     "data": {
      "text/plain": [
       "<module 'os' from 'C:\\\\Users\\\\tomst\\\\anaconda3\\\\envs\\\\r\\\\lib\\\\os.py'>"
      ]
     },
     "execution_count": 7,
     "metadata": {},
     "output_type": "execute_result"
    }
   ],
   "source": [
    "os"
   ]
  },
  {
   "cell_type": "code",
   "execution_count": 8,
   "id": "30c59708",
   "metadata": {},
   "outputs": [],
   "source": [
    "os.mkdir('maomao')"
   ]
  },
  {
   "cell_type": "code",
   "execution_count": 9,
   "id": "d54e468a",
   "metadata": {},
   "outputs": [
    {
     "name": "stdout",
     "output_type": "stream",
     "text": [
      "usage: rembg [-h] [-m {u2net,u2net_human_seg}] [-a [ALPHA_MATTING]]\n",
      "             [-af ALPHA_MATTING_FOREGROUND_THRESHOLD]\n",
      "             [-ab ALPHA_MATTING_BACKGROUND_THRESHOLD]\n",
      "             [-ae ALPHA_MATTING_ERODE_SIZE] [-az ALPHA_MATTING_BASE_SIZE]\n",
      "             [-p PATH PATH] [-o [OUTPUT]]\n",
      "             [input]\n",
      "\n",
      "positional arguments:\n",
      "  input                 Path to the input image.\n",
      "\n",
      "optional arguments:\n",
      "  -h, --help            show this help message and exit\n",
      "  -m {u2net,u2net_human_seg}, --model {u2net,u2net_human_seg}\n",
      "                        The model name.\n",
      "  -a [ALPHA_MATTING], --alpha-matting [ALPHA_MATTING]\n",
      "                        When true use alpha matting cutout.\n",
      "  -af ALPHA_MATTING_FOREGROUND_THRESHOLD, --alpha-matting-foreground-threshold ALPHA_MATTING_FOREGROUND_THRESHOLD\n",
      "                        The trimap foreground threshold.\n",
      "  -ab ALPHA_MATTING_BACKGROUND_THRESHOLD, --alpha-matting-background-threshold ALPHA_MATTING_BACKGROUND_THRESHOLD\n",
      "                        The trimap background threshold.\n",
      "  -ae ALPHA_MATTING_ERODE_SIZE, --alpha-matting-erode-size ALPHA_MATTING_ERODE_SIZE\n",
      "                        Size of element used for the erosion.\n",
      "  -az ALPHA_MATTING_BASE_SIZE, --alpha-matting-base-size ALPHA_MATTING_BASE_SIZE\n",
      "                        The image base size.\n",
      "  -p PATH PATH, --path PATH PATH\n",
      "                        An input folder and an output folder.\n",
      "  -o [OUTPUT], --output [OUTPUT]\n",
      "                        Path to the output png image.\n"
     ]
    }
   ],
   "source": [
    "!rembg --help"
   ]
  },
  {
   "cell_type": "code",
   "execution_count": 10,
   "id": "6c782b20",
   "metadata": {},
   "outputs": [
    {
     "data": {
      "text/plain": [
       "'C:\\\\Users\\\\tomst\\\\Desktop\\\\machine learning\\\\test'"
      ]
     },
     "execution_count": 10,
     "metadata": {},
     "output_type": "execute_result"
    }
   ],
   "source": [
    "os.getcwd()"
   ]
  },
  {
   "cell_type": "code",
   "execution_count": 11,
   "id": "1ca44839",
   "metadata": {},
   "outputs": [
    {
     "ename": "SyntaxError",
     "evalue": "invalid syntax (Temp/ipykernel_19332/4141069275.py, line 1)",
     "output_type": "error",
     "traceback": [
      "\u001b[1;36m  File \u001b[1;32m\"C:\\Users\\tomst\\AppData\\Local\\Temp/ipykernel_19332/4141069275.py\"\u001b[1;36m, line \u001b[1;32m1\u001b[0m\n\u001b[1;33m    rembg -m u2net_human_seg './图片/1H8A8704.jpg'  -o this.png\u001b[0m\n\u001b[1;37m             ^\u001b[0m\n\u001b[1;31mSyntaxError\u001b[0m\u001b[1;31m:\u001b[0m invalid syntax\n"
     ]
    }
   ],
   "source": [
    "rembg -m u2net_human_seg './图片/1H8A8704.jpg'  -o this.png"
   ]
  },
  {
   "cell_type": "code",
   "execution_count": 18,
   "id": "4d640e21",
   "metadata": {},
   "outputs": [
    {
     "ename": "SyntaxError",
     "evalue": "invalid syntax (Temp/ipykernel_19332/3259265731.py, line 1)",
     "output_type": "error",
     "traceback": [
      "\u001b[1;36m  File \u001b[1;32m\"C:\\Users\\tomst\\AppData\\Local\\Temp/ipykernel_19332/3259265731.py\"\u001b[1;36m, line \u001b[1;32m1\u001b[0m\n\u001b[1;33m    rembg -m=u2net test.jpg test.png\u001b[0m\n\u001b[1;37m                   ^\u001b[0m\n\u001b[1;31mSyntaxError\u001b[0m\u001b[1;31m:\u001b[0m invalid syntax\n"
     ]
    }
   ],
   "source": [
    "rembg -m=u2net test.jpg test.png"
   ]
  },
  {
   "cell_type": "code",
   "execution_count": 19,
   "id": "5b18c11d",
   "metadata": {},
   "outputs": [
    {
     "ename": "NameError",
     "evalue": "name 'remove' is not defined",
     "output_type": "error",
     "traceback": [
      "\u001b[1;31m---------------------------------------------------------------------------\u001b[0m",
      "\u001b[1;31mNameError\u001b[0m                                 Traceback (most recent call last)",
      "\u001b[1;32m~\\AppData\\Local\\Temp/ipykernel_19332/3258316726.py\u001b[0m in \u001b[0;36m<module>\u001b[1;34m\u001b[0m\n\u001b[1;32m----> 1\u001b[1;33m \u001b[0mhelp\u001b[0m\u001b[1;33m(\u001b[0m\u001b[0mremove\u001b[0m\u001b[1;33m)\u001b[0m\u001b[1;33m\u001b[0m\u001b[1;33m\u001b[0m\u001b[0m\n\u001b[0m",
      "\u001b[1;31mNameError\u001b[0m: name 'remove' is not defined"
     ]
    }
   ],
   "source": [
    "help(remove)"
   ]
  },
  {
   "cell_type": "code",
   "execution_count": 20,
   "id": "86722acb",
   "metadata": {},
   "outputs": [],
   "source": [
    "from rembg.bg import remove"
   ]
  },
  {
   "cell_type": "code",
   "execution_count": 21,
   "id": "065a0e9c",
   "metadata": {},
   "outputs": [
    {
     "name": "stdout",
     "output_type": "stream",
     "text": [
      "Help on function remove in module rembg.bg:\n",
      "\n",
      "remove(data, model_name='u2net', alpha_matting=False, alpha_matting_foreground_threshold=240, alpha_matting_background_threshold=10, alpha_matting_erode_structure_size=10, alpha_matting_base_size=1000)\n",
      "\n"
     ]
    }
   ],
   "source": [
    "help(remove)"
   ]
  },
  {
   "cell_type": "code",
   "execution_count": 31,
   "id": "a5639806",
   "metadata": {},
   "outputs": [
    {
     "data": {
      "text/plain": [
       "12"
      ]
     },
     "execution_count": 31,
     "metadata": {},
     "output_type": "execute_result"
    }
   ],
   "source": [
    "import numpy as np\n",
    "from PIL import ImageFile,Image\n",
    "import io\n",
    "ImageFile.LOAD_TRUNCATED_IMAGES = True\n",
    "f = np.fromfile('test.jpg')\n",
    "result = remove(f,model_name='u2net')\n",
    "img = Image.open(io.BytesIO(result)).convert(\"RGBA\")\n",
    "img.save('haha.png')\n",
    "12"
   ]
  },
  {
   "cell_type": "code",
   "execution_count": null,
   "id": "6ab4160f",
   "metadata": {},
   "outputs": [],
   "source": []
  }
 ],
 "metadata": {
  "kernelspec": {
   "display_name": "Python [conda env:r] *",
   "language": "python",
   "name": "conda-env-r-py"
  },
  "language_info": {
   "codemirror_mode": {
    "name": "ipython",
    "version": 3
   },
   "file_extension": ".py",
   "mimetype": "text/x-python",
   "name": "python",
   "nbconvert_exporter": "python",
   "pygments_lexer": "ipython3",
   "version": "3.8.12"
  }
 },
 "nbformat": 4,
 "nbformat_minor": 5
}
